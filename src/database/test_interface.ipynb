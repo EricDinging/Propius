{
 "cells": [
  {
   "cell_type": "code",
   "execution_count": 1,
   "metadata": {},
   "outputs": [
    {
     "name": "stdout",
     "output_type": "stream",
     "text": [
      "client 0: 78-48-51\n",
      "client 1: 75-3-0\n",
      "client 2: 23-44-67\n",
      "client 3: 49-37-14\n",
      "client 4: 15-83-92\n",
      "client 5: 82-5-28\n",
      "client 6: 78-20-32\n",
      "client 7: 12-9-16\n",
      "client 8: 54-20-66\n",
      "client 9: 15-13-92\n"
     ]
    }
   ],
   "source": [
    "import redis\n",
    "from redis.commands.json.path import Path\n",
    "import redis.commands.search.reducers as reducers\n",
    "from redis.commands.search.field import TextField, NumericField, TagField\n",
    "from redis.commands.search.indexDefinition import IndexDefinition, IndexType\n",
    "from redis.commands.search.query import NumericFilter, Query\n",
    "\n",
    "import random\n",
    "\n",
    "r = redis.Redis(host='localhost', port=6379)\n",
    "r.select(0)\n",
    "\n",
    "client_num = 10\n",
    "\n",
    "for i in range(client_num):\n",
    "    cpu, memory, os = random.randint(0, 100), random.randint(0, 100), random.randint(0, 100) \n",
    "    print(f\"client {i}: {cpu}-{memory}-{os}\")\n",
    "    client = {\n",
    "        \"client\":{\n",
    "            \"timestamp\": i,\n",
    "            \"cpu\": cpu,\n",
    "            \"memory\": memory,\n",
    "            \"os\": os\n",
    "        }\n",
    "    }\n",
    "    r.json().set(f\"client:{i}\", Path.root_path(), client)\n",
    "    \n",
    "\n",
    "schema = (\n",
    "          NumericField(\"$.client.timestamp\", as_name=\"timestamp\"),\n",
    "          NumericField(\"$.client.cpu\", as_name=\"cpu\"),\n",
    "          NumericField(\"$.client.memory\", as_name=\"memory\"),\n",
    "          NumericField(\"$.client.os\", as_name=\"os\"))\n",
    "\n",
    "try:\n",
    "    r.ft(\"client\").create_index(schema, \n",
    "                    definition=IndexDefinition(prefix=[\"client:\"], index_type=IndexType.JSON))\n",
    "except:\n",
    "    pass"
   ]
  },
  {
   "cell_type": "code",
   "execution_count": 3,
   "metadata": {},
   "outputs": [
    {
     "name": "stdout",
     "output_type": "stream",
     "text": [
      "Result{10 total, docs: [Document {'id': 'client:4', 'payload': None, 'json': '{\"client\":{\"timestamp\":4,\"cpu\":15,\"memory\":83,\"os\":92}}'}, Document {'id': 'client:7', 'payload': None, 'json': '{\"client\":{\"timestamp\":7,\"cpu\":12,\"memory\":9,\"os\":16}}'}, Document {'id': 'client:8', 'payload': None, 'json': '{\"client\":{\"timestamp\":8,\"cpu\":54,\"memory\":20,\"os\":66}}'}, Document {'id': 'client:3', 'payload': None, 'json': '{\"client\":{\"timestamp\":3,\"cpu\":49,\"memory\":37,\"os\":14}}'}, Document {'id': 'client:1', 'payload': None, 'json': '{\"client\":{\"timestamp\":1,\"cpu\":75,\"memory\":3,\"os\":0}}'}, Document {'id': 'client:9', 'payload': None, 'json': '{\"client\":{\"timestamp\":9,\"cpu\":15,\"memory\":13,\"os\":92}}'}, Document {'id': 'client:6', 'payload': None, 'json': '{\"client\":{\"timestamp\":6,\"cpu\":78,\"memory\":20,\"os\":32}}'}, Document {'id': 'client:5', 'payload': None, 'json': '{\"client\":{\"timestamp\":5,\"cpu\":82,\"memory\":5,\"os\":28}}'}, Document {'id': 'client:0', 'payload': None, 'json': '{\"client\":{\"timestamp\":0,\"cpu\":78,\"memory\":48,\"os\":51}}'}, Document {'id': 'client:2', 'payload': None, 'json': '{\"client\":{\"timestamp\":2,\"cpu\":23,\"memory\":44,\"os\":67}}'}]}\n"
     ]
    }
   ],
   "source": [
    "q = Query('*')\n",
    "result = r.ft('client').search(q)\n",
    "print(result)"
   ]
  },
  {
   "cell_type": "code",
   "execution_count": 3,
   "metadata": {},
   "outputs": [
    {
     "data": {
      "text/plain": [
       "True"
      ]
     },
     "execution_count": 3,
     "metadata": {},
     "output_type": "execute_result"
    }
   ],
   "source": [
    "r.expire('client:0', 30)"
   ]
  },
  {
   "cell_type": "code",
   "execution_count": 5,
   "metadata": {},
   "outputs": [
    {
     "data": {
      "text/plain": [
       "1"
      ]
     },
     "execution_count": 5,
     "metadata": {},
     "output_type": "execute_result"
    }
   ],
   "source": [
    "r.delete('client:1')"
   ]
  },
  {
   "cell_type": "code",
   "execution_count": 5,
   "metadata": {},
   "outputs": [],
   "source": [
    "import time\n",
    "def insert(id:int, metrics:tuple[int, int, int]):\n",
    "    client = {\n",
    "        \"client\":{\n",
    "            \"timestamp\": int(time.time()),\n",
    "            \"cpu\": metrics[0],\n",
    "            \"memory\": metrics[1],\n",
    "            \"os\": metrics[2],\n",
    "        }\n",
    "    }\n",
    "    r.json().set(f\"client:{id}\", Path.root_path(), client)\n",
    "\n",
    "insert(11, (1, 2, 3))"
   ]
  },
  {
   "cell_type": "code",
   "execution_count": 16,
   "metadata": {},
   "outputs": [
    {
     "name": "stdout",
     "output_type": "stream",
     "text": [
      "Document {'id': 'client:0', 'payload': None}\n",
      "Document {'id': 'client:1', 'payload': None}\n",
      "Document {'id': 'client:2', 'payload': None}\n",
      "Document {'id': 'client:3', 'payload': None}\n",
      "Document {'id': 'client:4', 'payload': None}\n",
      "Document {'id': 'client:5', 'payload': None}\n",
      "Document {'id': 'client:6', 'payload': None}\n",
      "Document {'id': 'client:7', 'payload': None}\n",
      "Document {'id': 'client:8', 'payload': None}\n",
      "Document {'id': 'client:9', 'payload': None}\n"
     ]
    }
   ],
   "source": [
    "tq = Query('*').sort_by('timestamp', asc=True).no_content()\n",
    "result = r.ft('client').search(tq)\n",
    "for doc in result.docs:\n",
    "    print(doc)"
   ]
  },
  {
   "cell_type": "code",
   "execution_count": 4,
   "metadata": {},
   "outputs": [
    {
     "name": "stdout",
     "output_type": "stream",
     "text": [
      "Document {'id': 'client:5', 'payload': None, 'json': '{\"client\":{\"timestamp\":5,\"cpu\":13,\"memory\":3,\"os\":9}}'}\n",
      "13\n",
      "Document {'id': 'client:6', 'payload': None, 'json': '{\"client\":{\"timestamp\":6,\"cpu\":22,\"memory\":5,\"os\":50}}'}\n",
      "22\n"
     ]
    }
   ],
   "source": [
    "import json\n",
    "result = r.ft('client').search('@cpu: [10, 50]')\n",
    "for doc in result.docs:\n",
    "    print(doc)\n",
    "    dict = json.loads(doc.json)\n",
    "    print(dict['client']['cpu'])"
   ]
  },
  {
   "cell_type": "code",
   "execution_count": 2,
   "metadata": {},
   "outputs": [],
   "source": [
    "\n",
    "r.select(0)\n",
    "job = {\n",
    "        \"job\":{\n",
    "            \"ip\": \"localhost\",\n",
    "            \"port\": 61000,\n",
    "            \"timestamp\": 0,\n",
    "            \"constraints\":{\n",
    "                \"cpu\": 90,\n",
    "                \"memory\": 70,\n",
    "                \"os\": 70,\n",
    "            },\n",
    "            \"demand\": 10,\n",
    "            \"amount\": 0,\n",
    "            \"round\" : 10,\n",
    "            \"score\": 0,\n",
    "            \"workload\": 10,\n",
    "        }\n",
    "    }\n",
    "r.json().set(f\"job:10\", Path.root_path(), job)\n",
    "\n",
    "job = {\n",
    "        \"job\":{\n",
    "            \"ip\": \"localhost\",\n",
    "            \"port\": 61000,\n",
    "            \"timestamp\": 1,\n",
    "            \"constraints\":{\n",
    "                \"cpu\": 70,\n",
    "                \"memory\": 70,\n",
    "                \"os\": 70,\n",
    "            },\n",
    "            \"demand\": 10,\n",
    "            \"amount\": 10,\n",
    "            \"round\" : 10,\n",
    "            \"score\": 0,\n",
    "            \"workload\": 10,\n",
    "        }\n",
    "    }\n",
    "r.json().set(f\"job:11\", Path.root_path(), job)\n",
    "\n",
    "job = {\n",
    "        \"job\":{\n",
    "            \"ip\": \"localhost\",\n",
    "            \"port\": 61000,\n",
    "            \"timestamp\": 3,\n",
    "            \"constraints\":{\n",
    "                \"cpu\": 70,\n",
    "                \"memory\": 70,\n",
    "                \"os\": 70,\n",
    "            },\n",
    "            \"demand\": 2,\n",
    "            \"amount\": 0,\n",
    "            \"round\" : 10,\n",
    "            \"score\": 0,\n",
    "            \"workload\": 10,\n",
    "        }\n",
    "    }\n",
    "r.json().set(f\"job:3\", Path.root_path(), job)\n",
    "\n",
    "job = {\n",
    "        \"job\":{\n",
    "            \"ip\": \"localhost\",\n",
    "            \"port\": 61000,\n",
    "            \"timestamp\": 2,\n",
    "            \"constraints\":{\n",
    "                \"cpu\": 70,\n",
    "                \"memory\": 70,\n",
    "                \"os\": 70,\n",
    "            },\n",
    "            \"demand\": 5,\n",
    "            \"amount\": 0,\n",
    "            \"round\" : 10,\n",
    "            \"score\": 0,\n",
    "            \"workload\": 10,\n",
    "        }\n",
    "    }\n",
    "r.json().set(f\"job:2\", Path.root_path(), job)\n",
    "\n",
    "schema = (TextField(\"$.job.id\", as_name=\"id\"),\n",
    "          NumericField(\"$.job.timestamp\", as_name=\"timestamp\"),\n",
    "          NumericField(\"$.job.constraints.cpu\", as_name=\"cpu\"),\n",
    "          NumericField(\"$.job.constraints.memory\", as_name=\"memory\"),\n",
    "          NumericField(\"$.job.constraints.os\", as_name=\"os\"),\n",
    "          NumericField(\"$.job.demand\", as_name=\"demand\"),\n",
    "          NumericField(\"$.job.amount\", as_name=\"amount\"),\n",
    "          TextField(\"$.job.ip\", as_name=\"ip\"),\n",
    "          NumericField(\"$.job.port\", as_name=\"port\"),\n",
    "          NumericField(\"$.job.round\", as_name=\"round\"),\n",
    "          NumericField(\"$.job.score\", as_name=\"score\"),\n",
    "          NumericField(\"$.job.workload\", as_name=\"workload\"),)\n",
    "\n",
    "try:\n",
    "    r.ft(\"job\").create_index(schema, \n",
    "                    definition=IndexDefinition(prefix=[\"job:\"], index_type=IndexType.JSON))\n",
    "except:\n",
    "    pass"
   ]
  },
  {
   "cell_type": "code",
   "execution_count": 16,
   "metadata": {},
   "outputs": [
    {
     "name": "stdout",
     "output_type": "stream",
     "text": [
      "exist\n"
     ]
    }
   ],
   "source": [
    "job = {\n",
    "        \"job\":{\n",
    "            \"ip\": \"localhost\",\n",
    "            \"port\": 61000,\n",
    "            \"timestamp\": 2,\n",
    "            \"constraints\":{\n",
    "                \"cpu\": 70,\n",
    "                \"memory\": 70,\n",
    "                \"os\": 70,\n",
    "            },\n",
    "            \"demand\": 5,\n",
    "            \"amount\": 0,\n",
    "            \"round\" : 10,\n",
    "            \"score\": 0,\n",
    "            \"workload\": 10,\n",
    "        }\n",
    "    }\n",
    "\n",
    "with r.json().pipeline() as w:\n",
    "    while True:\n",
    "        try:\n",
    "            id = f\"job:2\"\n",
    "            pipe.watch(id)\n",
    "            if pipe.get(id):\n",
    "                print(\"exist\")\n",
    "                pipe.unwatch()\n",
    "                break\n",
    "            pipe.set(f\"job:2\", Path.root_path(), job)\n",
    "            print(\"success\")\n",
    "            pipe.unwatch()\n",
    "            break\n",
    "        except redis.WatchError:\n",
    "            pass\n"
   ]
  },
  {
   "cell_type": "code",
   "execution_count": 44,
   "metadata": {},
   "outputs": [
    {
     "name": "stdout",
     "output_type": "stream",
     "text": [
      "Watch error\n",
      "Watch error\n"
     ]
    }
   ],
   "source": [
    "import time\n",
    "with r.json().pipeline() as pipe:\n",
    "    while True:\n",
    "        try:\n",
    "            id = f\"job:0\"\n",
    "            pipe.watch(id)\n",
    "            if not pipe.get(id):\n",
    "                print(\"Not exist\")\n",
    "                pipe.unwatch()\n",
    "                break\n",
    "            pipe.multi()\n",
    "            time.sleep(10)\n",
    "            pipe.execute_command('JSON.NUMINCRBY', id, \"$.job.amount\", 1)\n",
    "            pipe.execute_command('JSON.SET', id, '$.job.demand', 100)\n",
    "            pipe.execute()\n",
    "            break\n",
    "        except redis.WatchError:\n",
    "            print(\"Watch error\")\n",
    "            pass\n",
    "\n",
    "\n"
   ]
  },
  {
   "cell_type": "code",
   "execution_count": 16,
   "metadata": {},
   "outputs": [
    {
     "name": "stdout",
     "output_type": "stream",
     "text": [
      "{'job': {'ip': 'localhost', 'port': 61000, 'timestamp': 0, 'constraints': {'cpu': 90, 'memory': 70, 'os': 70}, 'demand': 10, 'amount': 0, 'round': 10, 'score': 0, 'workload': 10}}\n"
     ]
    }
   ],
   "source": [
    "print(r.json().get('job:0'))"
   ]
  },
  {
   "cell_type": "code",
   "execution_count": 7,
   "metadata": {},
   "outputs": [
    {
     "name": "stdout",
     "output_type": "stream",
     "text": [
      "4\n",
      "Document {'id': 'job:10', 'payload': None, 'score': '0', 'json': '{\"job\":{\"ip\":\"localhost\",\"port\":61000,\"timestamp\":0,\"constraints\":{\"cpu\":90,\"memory\":70,\"os\":70},\"demand\":10,\"amount\":0,\"round\":10,\"score\":0,\"workload\":10}}'}\n",
      "Document {'id': 'job:3', 'payload': None, 'score': '0', 'json': '{\"job\":{\"ip\":\"localhost\",\"port\":61000,\"timestamp\":3,\"constraints\":{\"cpu\":70,\"memory\":70,\"os\":70},\"demand\":2,\"amount\":0,\"round\":10,\"score\":0,\"workload\":10}}'}\n",
      "Document {'id': 'job:11', 'payload': None, 'score': '0', 'json': '{\"job\":{\"ip\":\"localhost\",\"port\":61000,\"timestamp\":1,\"constraints\":{\"cpu\":70,\"memory\":70,\"os\":70},\"demand\":10,\"amount\":10,\"round\":10,\"score\":0,\"workload\":10}}'}\n",
      "Document {'id': 'job:2', 'payload': None, 'score': '0', 'json': '{\"job\":{\"ip\":\"localhost\",\"port\":61000,\"timestamp\":2,\"constraints\":{\"cpu\":70,\"memory\":70,\"os\":70},\"demand\":5,\"amount\":0,\"round\":10,\"score\":0,\"workload\":10}}'}\n"
     ]
    }
   ],
   "source": [
    "import json\n",
    "q = Query('*').sort_by('score', asc=False)\n",
    "try:\n",
    "    result = r.ft('job').search(q)\n",
    "except:\n",
    "    result = None\n",
    "if result:\n",
    "    size = result.total\n",
    "    print(size)\n",
    "    for doc in result.docs:\n",
    "        job = json.loads(doc.json)\n",
    "        job_constraints = (job['job']['constraints']['cpu'],\n",
    "                        job['job']['constraints']['memory'],\n",
    "                        job['job']['constraints']['os'])\n",
    "        offer, size = (doc.id.split(':')[1], size)\n",
    "        print(doc)\n",
    "        "
   ]
  },
  {
   "cell_type": "code",
   "execution_count": 66,
   "metadata": {},
   "outputs": [
    {
     "name": "stdout",
     "output_type": "stream",
     "text": [
      "satisfied\n"
     ]
    }
   ],
   "source": [
    "with r.json().pipeline() as pipe:\n",
    "    while True:\n",
    "        try:\n",
    "            pipe.watch('job:3')\n",
    "            amount = int(r.json().get('job:3', \"$.job.amount\")[0])\n",
    "            demand = int(r.json().get('job:3', \"$.job.demand\")[0])\n",
    "            if amount >= demand:\n",
    "                print(\"satisfied\")\n",
    "                pipe.unwatch()\n",
    "                break\n",
    "            else:\n",
    "                pipe.multi()\n",
    "                pipe.execute_command('EVAL', \"\"\"\n",
    "                    local json_data = redis.call('JSON.GET', KEYS[1])\n",
    "                    local data = cjson.decode(json_data)\n",
    "                    data.job.amount = data.job.amount + 1\n",
    "                    local updated_json = cjson.encode(data)\n",
    "                    redis.call('JSON.SET', KEYS[1], '.', updated_json)\n",
    "                    \"\"\", 1, 'job:3')\n",
    "                pipe.execute()\n",
    "                print(\"Increased\")\n",
    "                break\n",
    "        except redis.WatchError:\n",
    "            print(\"Watch Error\")\n",
    "            pass"
   ]
  },
  {
   "cell_type": "code",
   "execution_count": 34,
   "metadata": {},
   "outputs": [],
   "source": [
    "with r.json().pipeline() as pipe:\n",
    "    id = \"job:0\"\n",
    "    pipe.watch('job:0')\n",
    "    pipe.delete('job:0')\n",
    "    pipe.unwatch()"
   ]
  },
  {
   "cell_type": "code",
   "execution_count": 20,
   "metadata": {},
   "outputs": [
    {
     "name": "stdout",
     "output_type": "stream",
     "text": [
      "<class 'list'>\n"
     ]
    }
   ],
   "source": [
    "result = r.execute_command('FT._LIST')\n",
    "print(type(result))"
   ]
  },
  {
   "cell_type": "code",
   "execution_count": 22,
   "metadata": {},
   "outputs": [
    {
     "name": "stdout",
     "output_type": "stream",
     "text": [
      "[b'index_name', b'job', b'index_options', [], b'index_definition', [b'key_type', b'JSON', b'prefixes', [b'job:'], b'default_score', b'1'], b'attributes', [[b'identifier', b'$.job.id', b'attribute', b'id', b'type', b'TEXT', b'WEIGHT', b'1'], [b'identifier', b'$.job.timestamp', b'attribute', b'timestamp', b'type', b'NUMERIC'], [b'identifier', b'$.job.constraints.cpu', b'attribute', b'cpu', b'type', b'NUMERIC'], [b'identifier', b'$.job.constraints.memory', b'attribute', b'memory', b'type', b'NUMERIC'], [b'identifier', b'$.job.constraints.os', b'attribute', b'os', b'type', b'NUMERIC'], [b'identifier', b'$.job.demand', b'attribute', b'demand', b'type', b'NUMERIC'], [b'identifier', b'$.job.amount', b'attribute', b'amount', b'type', b'NUMERIC'], [b'identifier', b'$.job.ip', b'attribute', b'ip', b'type', b'TEXT', b'WEIGHT', b'1'], [b'identifier', b'$.job.port', b'attribute', b'port', b'type', b'NUMERIC'], [b'identifier', b'$.job.round', b'attribute', b'round', b'type', b'NUMERIC'], [b'identifier', b'$.job.score', b'attribute', b'score', b'type', b'NUMERIC']], b'num_docs', b'1', b'max_doc_id', b'1', b'num_terms', b'1', b'num_records', b'10', b'inverted_sz_mb', b'2.09808349609375e-05', b'vector_index_sz_mb', b'0', b'total_inverted_index_blocks', b'10', b'offset_vectors_sz_mb', b'9.5367431640625e-07', b'doc_table_size_mb', b'6.771087646484375e-05', b'sortable_values_size_mb', b'0', b'key_table_size_mb', b'2.765655517578125e-05', b'records_per_doc_avg', b'10', b'bytes_per_record_avg', b'2.2000000476837158', b'offsets_per_term_avg', b'0.10000000149011612', b'offset_bits_per_record_avg', b'8', b'hash_indexing_failures', b'0', b'total_indexing_time', b'0.121', b'indexing', b'0', b'percent_indexed', b'1', b'number_of_uses', 2, b'gc_stats', [b'bytes_collected', b'0', b'total_ms_run', b'0', b'total_cycles', b'0', b'average_cycle_time_ms', b'-nan', b'last_run_time_ms', b'0', b'gc_numeric_trees_missed', b'0', b'gc_blocks_denied', b'0'], b'cursor_stats', [b'global_idle', 0, b'global_total', 0, b'index_capacity', 128, b'index_total', 0], b'dialect_stats', [b'dialect_1', 1, b'dialect_2', 0, b'dialect_3', 0]]\n"
     ]
    }
   ],
   "source": [
    "result = r.execute_command('FT.INFO', 'job')\n",
    "print(result)"
   ]
  },
  {
   "cell_type": "code",
   "execution_count": 13,
   "metadata": {},
   "outputs": [
    {
     "ename": "ResponseError",
     "evalue": "new objects must be created at the root",
     "output_type": "error",
     "traceback": [
      "\u001b[0;31m---------------------------------------------------------------------------\u001b[0m",
      "\u001b[0;31mResponseError\u001b[0m                             Traceback (most recent call last)",
      "\u001b[0;32m/tmp/ipykernel_39901/485493286.py\u001b[0m in \u001b[0;36m<module>\u001b[0;34m\u001b[0m\n\u001b[0;32m----> 1\u001b[0;31m \u001b[0mr\u001b[0m\u001b[0;34m.\u001b[0m\u001b[0mexecute_command\u001b[0m\u001b[0;34m(\u001b[0m\u001b[0;34m'JSON.SET'\u001b[0m\u001b[0;34m,\u001b[0m \u001b[0;34mf\"job:13\"\u001b[0m\u001b[0;34m,\u001b[0m \u001b[0;34m\"$.job.score\"\u001b[0m\u001b[0;34m,\u001b[0m \u001b[0;36m100\u001b[0m\u001b[0;34m)\u001b[0m\u001b[0;34m\u001b[0m\u001b[0;34m\u001b[0m\u001b[0m\n\u001b[0m",
      "\u001b[0;32m~/anaconda3/lib/python3.9/site-packages/redis/client.py\u001b[0m in \u001b[0;36mexecute_command\u001b[0;34m(self, *args, **options)\u001b[0m\n\u001b[1;32m   1256\u001b[0m \u001b[0;34m\u001b[0m\u001b[0m\n\u001b[1;32m   1257\u001b[0m         \u001b[0;32mtry\u001b[0m\u001b[0;34m:\u001b[0m\u001b[0;34m\u001b[0m\u001b[0;34m\u001b[0m\u001b[0m\n\u001b[0;32m-> 1258\u001b[0;31m             return conn.retry.call_with_retry(\n\u001b[0m\u001b[1;32m   1259\u001b[0m                 lambda: self._send_command_parse_response(\n\u001b[1;32m   1260\u001b[0m                     \u001b[0mconn\u001b[0m\u001b[0;34m,\u001b[0m \u001b[0mcommand_name\u001b[0m\u001b[0;34m,\u001b[0m \u001b[0;34m*\u001b[0m\u001b[0margs\u001b[0m\u001b[0;34m,\u001b[0m \u001b[0;34m**\u001b[0m\u001b[0moptions\u001b[0m\u001b[0;34m\u001b[0m\u001b[0;34m\u001b[0m\u001b[0m\n",
      "\u001b[0;32m~/anaconda3/lib/python3.9/site-packages/redis/retry.py\u001b[0m in \u001b[0;36mcall_with_retry\u001b[0;34m(self, do, fail)\u001b[0m\n\u001b[1;32m     44\u001b[0m         \u001b[0;32mwhile\u001b[0m \u001b[0;32mTrue\u001b[0m\u001b[0;34m:\u001b[0m\u001b[0;34m\u001b[0m\u001b[0;34m\u001b[0m\u001b[0m\n\u001b[1;32m     45\u001b[0m             \u001b[0;32mtry\u001b[0m\u001b[0;34m:\u001b[0m\u001b[0;34m\u001b[0m\u001b[0;34m\u001b[0m\u001b[0m\n\u001b[0;32m---> 46\u001b[0;31m                 \u001b[0;32mreturn\u001b[0m \u001b[0mdo\u001b[0m\u001b[0;34m(\u001b[0m\u001b[0;34m)\u001b[0m\u001b[0;34m\u001b[0m\u001b[0;34m\u001b[0m\u001b[0m\n\u001b[0m\u001b[1;32m     47\u001b[0m             \u001b[0;32mexcept\u001b[0m \u001b[0mself\u001b[0m\u001b[0;34m.\u001b[0m\u001b[0m_supported_errors\u001b[0m \u001b[0;32mas\u001b[0m \u001b[0merror\u001b[0m\u001b[0;34m:\u001b[0m\u001b[0;34m\u001b[0m\u001b[0;34m\u001b[0m\u001b[0m\n\u001b[1;32m     48\u001b[0m                 \u001b[0mfailures\u001b[0m \u001b[0;34m+=\u001b[0m \u001b[0;36m1\u001b[0m\u001b[0;34m\u001b[0m\u001b[0;34m\u001b[0m\u001b[0m\n",
      "\u001b[0;32m~/anaconda3/lib/python3.9/site-packages/redis/client.py\u001b[0m in \u001b[0;36m<lambda>\u001b[0;34m()\u001b[0m\n\u001b[1;32m   1257\u001b[0m         \u001b[0;32mtry\u001b[0m\u001b[0;34m:\u001b[0m\u001b[0;34m\u001b[0m\u001b[0;34m\u001b[0m\u001b[0m\n\u001b[1;32m   1258\u001b[0m             return conn.retry.call_with_retry(\n\u001b[0;32m-> 1259\u001b[0;31m                 lambda: self._send_command_parse_response(\n\u001b[0m\u001b[1;32m   1260\u001b[0m                     \u001b[0mconn\u001b[0m\u001b[0;34m,\u001b[0m \u001b[0mcommand_name\u001b[0m\u001b[0;34m,\u001b[0m \u001b[0;34m*\u001b[0m\u001b[0margs\u001b[0m\u001b[0;34m,\u001b[0m \u001b[0;34m**\u001b[0m\u001b[0moptions\u001b[0m\u001b[0;34m\u001b[0m\u001b[0;34m\u001b[0m\u001b[0m\n\u001b[1;32m   1261\u001b[0m                 ),\n",
      "\u001b[0;32m~/anaconda3/lib/python3.9/site-packages/redis/client.py\u001b[0m in \u001b[0;36m_send_command_parse_response\u001b[0;34m(self, conn, command_name, *args, **options)\u001b[0m\n\u001b[1;32m   1233\u001b[0m         \"\"\"\n\u001b[1;32m   1234\u001b[0m         \u001b[0mconn\u001b[0m\u001b[0;34m.\u001b[0m\u001b[0msend_command\u001b[0m\u001b[0;34m(\u001b[0m\u001b[0;34m*\u001b[0m\u001b[0margs\u001b[0m\u001b[0;34m)\u001b[0m\u001b[0;34m\u001b[0m\u001b[0;34m\u001b[0m\u001b[0m\n\u001b[0;32m-> 1235\u001b[0;31m         \u001b[0;32mreturn\u001b[0m \u001b[0mself\u001b[0m\u001b[0;34m.\u001b[0m\u001b[0mparse_response\u001b[0m\u001b[0;34m(\u001b[0m\u001b[0mconn\u001b[0m\u001b[0;34m,\u001b[0m \u001b[0mcommand_name\u001b[0m\u001b[0;34m,\u001b[0m \u001b[0;34m**\u001b[0m\u001b[0moptions\u001b[0m\u001b[0;34m)\u001b[0m\u001b[0;34m\u001b[0m\u001b[0;34m\u001b[0m\u001b[0m\n\u001b[0m\u001b[1;32m   1236\u001b[0m \u001b[0;34m\u001b[0m\u001b[0m\n\u001b[1;32m   1237\u001b[0m     \u001b[0;32mdef\u001b[0m \u001b[0m_disconnect_raise\u001b[0m\u001b[0;34m(\u001b[0m\u001b[0mself\u001b[0m\u001b[0;34m,\u001b[0m \u001b[0mconn\u001b[0m\u001b[0;34m,\u001b[0m \u001b[0merror\u001b[0m\u001b[0;34m)\u001b[0m\u001b[0;34m:\u001b[0m\u001b[0;34m\u001b[0m\u001b[0;34m\u001b[0m\u001b[0m\n",
      "\u001b[0;32m~/anaconda3/lib/python3.9/site-packages/redis/client.py\u001b[0m in \u001b[0;36mparse_response\u001b[0;34m(self, connection, command_name, **options)\u001b[0m\n\u001b[1;32m   1273\u001b[0m                 \u001b[0moptions\u001b[0m\u001b[0;34m.\u001b[0m\u001b[0mpop\u001b[0m\u001b[0;34m(\u001b[0m\u001b[0mNEVER_DECODE\u001b[0m\u001b[0;34m)\u001b[0m\u001b[0;34m\u001b[0m\u001b[0;34m\u001b[0m\u001b[0m\n\u001b[1;32m   1274\u001b[0m             \u001b[0;32melse\u001b[0m\u001b[0;34m:\u001b[0m\u001b[0;34m\u001b[0m\u001b[0;34m\u001b[0m\u001b[0m\n\u001b[0;32m-> 1275\u001b[0;31m                 \u001b[0mresponse\u001b[0m \u001b[0;34m=\u001b[0m \u001b[0mconnection\u001b[0m\u001b[0;34m.\u001b[0m\u001b[0mread_response\u001b[0m\u001b[0;34m(\u001b[0m\u001b[0;34m)\u001b[0m\u001b[0;34m\u001b[0m\u001b[0;34m\u001b[0m\u001b[0m\n\u001b[0m\u001b[1;32m   1276\u001b[0m         \u001b[0;32mexcept\u001b[0m \u001b[0mResponseError\u001b[0m\u001b[0;34m:\u001b[0m\u001b[0;34m\u001b[0m\u001b[0;34m\u001b[0m\u001b[0m\n\u001b[1;32m   1277\u001b[0m             \u001b[0;32mif\u001b[0m \u001b[0mEMPTY_RESPONSE\u001b[0m \u001b[0;32min\u001b[0m \u001b[0moptions\u001b[0m\u001b[0;34m:\u001b[0m\u001b[0;34m\u001b[0m\u001b[0;34m\u001b[0m\u001b[0m\n",
      "\u001b[0;32m~/anaconda3/lib/python3.9/site-packages/redis/connection.py\u001b[0m in \u001b[0;36mread_response\u001b[0;34m(self, disable_decoding)\u001b[0m\n\u001b[1;32m    880\u001b[0m \u001b[0;34m\u001b[0m\u001b[0m\n\u001b[1;32m    881\u001b[0m         \u001b[0;32mif\u001b[0m \u001b[0misinstance\u001b[0m\u001b[0;34m(\u001b[0m\u001b[0mresponse\u001b[0m\u001b[0;34m,\u001b[0m \u001b[0mResponseError\u001b[0m\u001b[0;34m)\u001b[0m\u001b[0;34m:\u001b[0m\u001b[0;34m\u001b[0m\u001b[0;34m\u001b[0m\u001b[0m\n\u001b[0;32m--> 882\u001b[0;31m             \u001b[0;32mraise\u001b[0m \u001b[0mresponse\u001b[0m\u001b[0;34m\u001b[0m\u001b[0;34m\u001b[0m\u001b[0m\n\u001b[0m\u001b[1;32m    883\u001b[0m         \u001b[0;32mreturn\u001b[0m \u001b[0mresponse\u001b[0m\u001b[0;34m\u001b[0m\u001b[0;34m\u001b[0m\u001b[0m\n\u001b[1;32m    884\u001b[0m \u001b[0;34m\u001b[0m\u001b[0m\n",
      "\u001b[0;31mResponseError\u001b[0m: new objects must be created at the root"
     ]
    }
   ],
   "source": [
    "r.execute_command('JSON.SET', f\"job:13\", \"$.job.score\", 100)"
   ]
  },
  {
   "cell_type": "code",
   "execution_count": 12,
   "metadata": {},
   "outputs": [
    {
     "name": "stdout",
     "output_type": "stream",
     "text": [
      "3\n",
      "Document {'id': 'job:1', 'payload': None, 'json': '{\"job\":{\"ip\":\"localhost\",\"port\":61000,\"timestamp\":1,\"constraints\":{\"cpu\":70,\"memory\":70,\"os\":70},\"demand\":10,\"amount\":10,\"round\":10,\"score\":0,\"workload\":10}}'}\n",
      "1\n",
      "10\n",
      "Document {'id': 'job:2', 'payload': None, 'json': '{\"job\":{\"ip\":\"localhost\",\"port\":61000,\"timestamp\":2,\"constraints\":{\"cpu\":70,\"memory\":70,\"os\":70},\"demand\":5,\"amount\":0,\"round\":10,\"score\":0,\"workload\":10}}'}\n",
      "2\n",
      "5\n",
      "Document {'id': 'job:3', 'payload': None, 'json': '{\"job\":{\"ip\":\"localhost\",\"port\":61000,\"timestamp\":3,\"constraints\":{\"cpu\":70,\"memory\":70,\"os\":70},\"demand\":2,\"amount\":0,\"round\":10,\"score\":100,\"workload\":10}}'}\n",
      "3\n",
      "2\n"
     ]
    }
   ],
   "source": [
    "import json\n",
    "metrics = (70, 70, 70)\n",
    "q = Query(f'@cpu: [{metrics[0]},{metrics[0]}] @memory: [{metrics[1]},{metrics[1]}] @os: [{metrics[2]},{metrics[2]}]')\n",
    "result = r.ft('job').search(q)\n",
    "print(result.total)\n",
    "for doc in result.docs:\n",
    "    print(doc)\n",
    "    dock_id = doc.id\n",
    "    print(dock_id.split(':')[1])\n",
    "    print(json.loads(doc.json)[\"job\"][\"demand\"])"
   ]
  },
  {
   "cell_type": "code",
   "execution_count": 8,
   "metadata": {},
   "outputs": [
    {
     "name": "stdout",
     "output_type": "stream",
     "text": [
      "10\n"
     ]
    }
   ],
   "source": [
    "info = r.ft('client').info()\n",
    "cur_size = info['num_docs']\n",
    "print(cur_size)"
   ]
  },
  {
   "cell_type": "code",
   "execution_count": null,
   "metadata": {},
   "outputs": [],
   "source": []
  }
 ],
 "metadata": {
  "kernelspec": {
   "display_name": "base",
   "language": "python",
   "name": "python3"
  },
  "language_info": {
   "codemirror_mode": {
    "name": "ipython",
    "version": 3
   },
   "file_extension": ".py",
   "mimetype": "text/x-python",
   "name": "python",
   "nbconvert_exporter": "python",
   "pygments_lexer": "ipython3",
   "version": "3.9.17"
  },
  "orig_nbformat": 4
 },
 "nbformat": 4,
 "nbformat_minor": 2
}
