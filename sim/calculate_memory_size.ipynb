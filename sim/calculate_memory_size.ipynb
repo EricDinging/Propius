{
 "cells": [
  {
   "cell_type": "code",
   "execution_count": 8,
   "metadata": {},
   "outputs": [
    {
     "name": "stdout",
     "output_type": "stream",
     "text": [
      "Model Parameters Memory: 0.04 GB\n",
      "Batch Memory: 0.00 MB\n",
      "Framework Overhead: 1.00 GB\n",
      "System Overhead: 1.00 GB\n",
      "Total RAM Needed: 2.04 GB\n"
     ]
    }
   ],
   "source": [
    "import numpy as np\n",
    "\n",
    "# Simplified values for illustration\n",
    "model_parameters = 11 * (10**6)  # 2 million parameters\n",
    "input_image_size = (224, 224)  # 224x224 pixels\n",
    "batch_size = 16\n",
    "framework_overhead = 1  # GB\n",
    "system_overhead = 1  # GB\n",
    "\n",
    "# Calculate memory requirements\n",
    "parameters_memory_gb = model_parameters * 4 / (1024 ** 3)  # Convert to GB\n",
    "input_image_memory_gb = np.prod(input_image_size) * 3 / (1024 ** 3)  # Assuming RGB images and float32\n",
    "batch_memory_gb = input_image_memory_gb * batch_size\n",
    "framework_overhead_gb = framework_overhead\n",
    "system_overhead_gb = system_overhead\n",
    "\n",
    "total_memory_gb = parameters_memory_gb + batch_memory_gb + framework_overhead_gb + system_overhead_gb\n",
    "\n",
    "print(f\"Model Parameters Memory: {parameters_memory_gb:.2f} GB\")\n",
    "print(f\"Batch Memory: {batch_memory_gb:.2f} MB\")\n",
    "print(f\"Framework Overhead: {framework_overhead_gb:.2f} GB\")\n",
    "print(f\"System Overhead: {system_overhead_gb:.2f} GB\")\n",
    "print(f\"Total RAM Needed: {total_memory_gb:.2f} GB\")"
   ]
  }
 ],
 "metadata": {
  "kernelspec": {
   "display_name": "propius",
   "language": "python",
   "name": "python3"
  },
  "language_info": {
   "codemirror_mode": {
    "name": "ipython",
    "version": 3
   },
   "file_extension": ".py",
   "mimetype": "text/x-python",
   "name": "python",
   "nbconvert_exporter": "python",
   "pygments_lexer": "ipython3",
   "version": "3.9.17"
  },
  "orig_nbformat": 4
 },
 "nbformat": 4,
 "nbformat_minor": 2
}
