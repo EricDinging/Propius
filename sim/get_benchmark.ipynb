{
 "cells": [
  {
   "cell_type": "code",
   "execution_count": null,
   "metadata": {},
   "outputs": [],
   "source": [
    "import pandas as pd\n",
    "url1 = 'https://ai-benchmark.com/ranking.html'\n",
    "score_table = pd.read_html(url1)[1]\n",
    "score_table = score_table.drop([0],axis=0)\n",
    "\n",
    "print(score_table)\n",
    "url2= 'https://ai-benchmark.com/data/results_phones.htm'\n",
    "speed_table = pd.read_html(url2)[0]\n",
    "speed_table = speed_table.drop([0],axis=0)\n",
    "speed_table = speed_table.drop([0],axis=1)\n",
    "speed_table = speed_table.drop([4],axis=0)\n",
    "speed_table = speed_table.drop([1],axis=0)\n",
    "speed_table = speed_table.drop([2],axis=0)\n",
    "speed_table = speed_table.drop([3],axis=0)\n",
    "speed_table.columns = [str(i) for i in range(109)]\n",
    "\n",
    "cpu_score_list = list(score_table['CPU-F Score'] )\n",
    "mem_score_list =  list(score_table['FP16 Memory'] )\n",
    "\n",
    "model_name =list(score_table['Model'] )\n",
    "model_score = {}\n",
    "for i,name in enumerate(model_name):\n",
    "  model_score[name] = (cpu_score_list[i], mem_score_list[i])"
   ]
  }
 ],
 "metadata": {
  "language_info": {
   "name": "python"
  },
  "orig_nbformat": 4
 },
 "nbformat": 4,
 "nbformat_minor": 2
}
